{
 "cells": [
  {
   "cell_type": "code",
   "execution_count": 1,
   "id": "11f9f538",
   "metadata": {},
   "outputs": [],
   "source": [
    "import mysql.connector as connector"
   ]
  },
  {
   "cell_type": "code",
   "execution_count": 2,
   "id": "5b3c10a4",
   "metadata": {},
   "outputs": [],
   "source": [
    "connection = connector.connect(\n",
    "    user = \"admin\",\n",
    "    password = \"admin\",\n",
    "    database = \"LittleLemonDB\")"
   ]
  },
  {
   "cell_type": "code",
   "execution_count": 3,
   "id": "9acfdb67",
   "metadata": {},
   "outputs": [],
   "source": [
    "cursor = connection.cursor()"
   ]
  },
  {
   "cell_type": "code",
   "execution_count": 4,
   "id": "67b9d92b",
   "metadata": {},
   "outputs": [],
   "source": [
    "show_table_query = \"SHOW TABLES;\"\n",
    "cursor.execute(show_table_query)"
   ]
  },
  {
   "cell_type": "code",
   "execution_count": 5,
   "id": "7bd4ede9",
   "metadata": {},
   "outputs": [],
   "source": [
    "result = cursor.fetchall()"
   ]
  },
  {
   "cell_type": "code",
   "execution_count": 6,
   "id": "4867771e",
   "metadata": {},
   "outputs": [
    {
     "name": "stdout",
     "output_type": "stream",
     "text": [
      "[('address',), ('booking',), ('customer',), ('menu',), ('menu_items',), ('order_items',), ('orders',), ('orders_view',), ('restaurant_table',), ('staff',)]\n"
     ]
    }
   ],
   "source": [
    "print(result)"
   ]
  },
  {
   "cell_type": "code",
   "execution_count": 7,
   "id": "144b9fdc",
   "metadata": {},
   "outputs": [],
   "source": [
    "candidate_customers = \"\"\"\n",
    "SELECT\n",
    "    CONCAT(c.first_name, ' ', c.last_name) AS customer_name,\n",
    "    c.telephone,\n",
    "    c.email\n",
    "FROM\n",
    "    customer AS c\n",
    "    INNER JOIN\n",
    "    orders AS o\n",
    "    ON o.customer_id = c.customer_id\n",
    "WHERE\n",
    "    o.total_cost > 60;\n",
    "\"\"\""
   ]
  },
  {
   "cell_type": "code",
   "execution_count": 9,
   "id": "5e4f7a7e",
   "metadata": {},
   "outputs": [],
   "source": [
    "cursor.execute(candidate_customers)"
   ]
  },
  {
   "cell_type": "code",
   "execution_count": 10,
   "id": "b0910a53",
   "metadata": {},
   "outputs": [],
   "source": [
    "result_customers = cursor.fetchall()"
   ]
  },
  {
   "cell_type": "code",
   "execution_count": 15,
   "id": "fcbffab2",
   "metadata": {},
   "outputs": [
    {
     "name": "stdout",
     "output_type": "stream",
     "text": [
      "('customer_name', 'telephone', 'email')\n",
      "('Catherine Miller', '444-555-6666', 'catherine.miller@email.com')\n",
      "('John Doe', '123-456-7890', 'john.doe@email.com')\n",
      "('David Wilson', '777-888-9999', 'david.wilson@email.com')\n",
      "('Jane Smith', '987-654-3210', 'jane.smith@email.com')\n",
      "('Ava Jones', '555-111-2222', 'ava.jones@email.com')\n",
      "('Ethan Anderson', '888-999-0000', 'ethan.anderson@email.com')\n",
      "('John Doe', '123-456-7890', 'john.doe@email.com')\n",
      "('Emily Brown', '111-222-3333', 'emily.brown@email.com')\n",
      "('Ethan Anderson', '888-999-0000', 'ethan.anderson@email.com')\n",
      "('Sarah Anderson', '222-333-4444', 'sarah.anderson@email.com')\n",
      "('Liam Smith', '111-222-3333', 'liam.smith@email.com')\n",
      "('Emma Williams', '444-555-6666', 'emma.williams@email.com')\n",
      "('Amy Miller', '444-555-6666', 'amy.miller@email.com')\n",
      "('David Wilson', '777-888-9999', 'david.wilson@email.com')\n",
      "('Zoe Harrison', '777-888-9999', 'zoe.harrison@email.com')\n",
      "('Catherine Miller', '444-555-6666', 'catherine.miller@email.com')\n",
      "('Sarah Anderson', '222-333-4444', 'sarah.anderson@email.com')\n",
      "('Robert Jones', '888-999-0000', 'robert.jones@email.com')\n",
      "('Henry Baker', '555-111-2222', 'henry.baker@email.com')\n",
      "('Lily Adams', '999-000-1111', 'lily.adams@email.com')\n",
      "('Leo Fisher', '444-555-6666', 'leo.fisher@email.com')\n",
      "('Olivia Davis', '222-333-4444', 'olivia.davis@email.com')\n",
      "('Elijah Wright', '444-555-6666', 'elijah.wright@email.com')\n",
      "('Ava Jones', '555-111-2222', 'ava.jones@email.com')\n",
      "('Olivia Davis', '222-333-4444', 'olivia.davis@email.com')\n",
      "('Amy Miller', '444-555-6666', 'amy.miller@email.com')\n"
     ]
    }
   ],
   "source": [
    "print(cursor.column_names)\n",
    "for row in result_customers:\n",
    "    print(row)"
   ]
  },
  {
   "cell_type": "code",
   "execution_count": 16,
   "id": "971eef27",
   "metadata": {},
   "outputs": [
    {
     "data": {
      "text/plain": [
       "True"
      ]
     },
     "execution_count": 16,
     "metadata": {},
     "output_type": "execute_result"
    }
   ],
   "source": [
    "cursor.close()"
   ]
  },
  {
   "cell_type": "code",
   "execution_count": 17,
   "id": "53dd00fd",
   "metadata": {},
   "outputs": [],
   "source": [
    "connection.close()"
   ]
  }
 ],
 "metadata": {
  "kernelspec": {
   "display_name": "Python 3 (ipykernel)",
   "language": "python",
   "name": "python3"
  },
  "language_info": {
   "codemirror_mode": {
    "name": "ipython",
    "version": 3
   },
   "file_extension": ".py",
   "mimetype": "text/x-python",
   "name": "python",
   "nbconvert_exporter": "python",
   "pygments_lexer": "ipython3",
   "version": "3.11.1"
  }
 },
 "nbformat": 4,
 "nbformat_minor": 5
}
